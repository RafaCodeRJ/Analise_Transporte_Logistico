## 4. Insights e Plano de Ação

### 4.1. Problemas Críticos

# Dias com Margem Negativa
dias_margem_negativa = df_diario[df_diario['Margem'] < 0]
print(f"🚨 {len(dias_margem_negativa)} dias com margem negativa identificados")
print("Dias críticos:", dias_margem_negativa['Data'].dt.strftime('%Y-%m-%d').tolist())


### 4.2. Ações Prioritárias

# Carregar tabela de ações
print("\n🎯 AÇÕES PRIORITÁRIAS:")
acoes_urgentes = df_acoes[df_acoes['Prioridade'] == 'Urgente']
for _, acao in acoes_urgentes.iterrows():
    print(f"• {acao['Ação']} - Impacto: R$ {acao['Impacto']:,.0f}")


### 4.3. Métricas de Sucesso

kpis_monitoramento = {
    'Margem Mínima Diária': '> 15%',
    'Custo/KM Máximo': '< R$ 0.22',
    'Dias Margem Negativa': '0 por mês',
    'Variabilidade Custo Combustível': '< 20%',
    'Eficiência Entregas/KM': '> 0.012 entregas/km'
}

print("\n🎯 METAS DE PERFORMANCE:")
for kpi, meta in kpis_monitoramento.items():
    print(f"• {kpi}: {meta}")


    
