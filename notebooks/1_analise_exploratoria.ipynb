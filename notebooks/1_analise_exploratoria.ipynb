# 1. Análise Exploratória

### 1.1. Evolução Mensal de Custos, Frete e Margem

import pandas as pd
import matplotlib.pyplot as plt
import seaborn as sns
import numpy as np

# Carregar dados
df_diario = pd.read_csv('../data/dados_logistica.csv', parse_dates=['Data'])
df_mensal = pd.read_csv('../data/dados_mensais.csv')
df_acoes = pd.read_csv('../data/tabela_acoes.csv')

# Gráfico de evolução mensal
plt.figure(figsize=(12, 8))
plt.plot(df_mensal['Mês'], df_mensal['Custo Total'], marker='o', label='Custo Total')
plt.plot(df_mensal['Mês'], df_mensal['Frete'], marker='s', label='Frete')
plt.plot(df_mensal['Mês'], df_mensal['Margem'], marker='^', label='Margem')
plt.title('Evolução Mensal de Custos, Frete e Margem')
plt.xlabel('Mês')
plt.ylabel('Valor (R$)')
plt.legend()
plt.xticks(rotation=45)
plt.grid(True, alpha=0.3)
plt.tight_layout()
plt.show()


### 1.2. Composição Total dos Custos

# Composição média dos custos
custos_medios = df_mensal[['Custo Combustível', 'Custo Manutenção', 'Custo Motorista']].mean()
labels = ['Combustível', 'Manutenção', 'Motorista']

plt.figure(figsize=(8, 8))
plt.pie(custos_medios, labels=labels, autopct='%1.1f%%', startangle=90)
plt.title('Composição Média dos Custos Operacionais')
plt.show()


### 1.3. Mapa de Correlação

# Mapa de correlação
plt.figure(figsize=(10, 8))
correlation_matrix = df_diario[['KM Percorridos', 'Entregas', 'Peso (ton)', 'Frete', 
                              'Custo Total', 'Margem', 'Custo Combustível', 
                              'Custo Manutenção', 'Custo Motorista']].corr()
sns.heatmap(correlation_matrix, annot=True, cmap='coolwarm', center=0)
plt.title('Mapa de Correlação - Dados Diários')
plt.tight_layout()
plt.show()


### 1.4. Distribuição do Custo por KM

plt.figure(figsize=(10, 6))
plt.hist(df_diario['Custo/KM'], bins=30, alpha=0.7, edgecolor='black')
plt.axvline(df_diario['Custo/KM'].mean(), color='red', linestyle='--', 
           label=f'Média: R$ {df_diario["Custo/KM"].mean():.3f}/km')
plt.xlabel('Custo por KM (R$)')
plt.ylabel('Frequência')
plt.title('Distribuição do Custo por Quilômetro')
plt.legend()
plt.grid(True, alpha=0.3)
plt.show()
