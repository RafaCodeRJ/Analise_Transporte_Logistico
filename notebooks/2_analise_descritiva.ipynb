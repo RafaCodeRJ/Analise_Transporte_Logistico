## 2. Análise Descritiva - KPIs Principais

# KPIs calculados
kpis = {
    'Custo Médio por KM': f"R$ {df_diario['Custo/KM'].mean():.4f}",
    'Média de Entregas por Dia': f"{df_diario['Entregas'].mean():.1f} entregas",
    'Margem Média': f"{df_diario['Margem %'].mean():.2f}%",
    'Custo Total Médio Diário': f"R$ {df_diario['Custo Total'].mean():.2f}",
    'Frete Médio Diário': f"R$ {df_diario['Frete'].mean():.2f}",
    'KM Médio Diário': f"{df_diario['KM Percorridos'].mean():.0f} km"
}

print("📊 KPIs PRINCIPAIS:")
for kpi, valor in kpis.items():
    print(f"• {kpi}: {valor}")


    
