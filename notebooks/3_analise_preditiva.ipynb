## 3. Análise Preditiva

from sklearn.model_selection import train_test_split
from sklearn.linear_model import LinearRegression
from sklearn.ensemble import RandomForestRegressor
from sklearn.metrics import mean_squared_error, r2_score


### 3.1. Modelo de Previsão de Custo Total

# Preparação dos dados para modelagem
features = ['KM Percorridos', 'Entregas', 'Peso (ton)', 'Frete', 'Margem', 
           'Custo Combustível', 'Custo Manutenção', 'Custo Motorista']
target = 'Custo Total'

X = df_diario[features]
y = df_diario[target]

# Divisão treino/teste
X_train, X_test, y_train, y_test = train_test_split(X, y, test_size=0.2, random_state=42)

# Modelo Regressão Linear
lr_model = LinearRegression()
lr_model.fit(X_train, y_train)
y_pred_lr = lr_model.predict(X_test)

mse_lr = mean_squared_error(y_test, y_pred_lr)
r2_lr = r2_score(y_test, y_pred_lr)

# Modelo Random Forest
rf_model = RandomForestRegressor(n_estimators=100, random_state=42)
rf_model.fit(X_train, y_train)
y_pred_rf = rf_model.predict(X_test)

mse_rf = mean_squared_error(y_test, y_pred_rf)
r2_rf = r2_score(y_test, y_pred_rf)

print("📊 COMPARAÇÃO DOS MODELOS:")
print(f"Regressão Linear - MSE: {mse_lr:.2f}, R²: {r2_lr:.4f}")
print(f"Random Forest - MSE: {mse_rf:.2f}, R²: {r2_rf:.4f}")


### 3.2. Importância das Variáveis (Random Forest)

# Importância das features
importances = rf_model.feature_importances_
feature_names = features
indices = np.argsort(importances)

plt.figure(figsize=(10, 6))
sns.barplot(x=importances[indices], y=np.array(features)[indices], hue=np.array(features)[indices], palette='viridis', legend=False)
plt.title('Importância das Variáveis no Modelo Random Forest')
plt.xlabel('Importância Relativa')
plt.tight_layout()
plt.show()


### 3.3. Visualização Comparativa dos Modelos

plt.figure(figsize=(14, 6))

plt.subplot(1, 2, 1)
plt.scatter(y_test, y_pred_lr, alpha=0.6)
plt.plot([y_test.min(), y_test.max()], [y_test.min(), y_test.max()], 'r--', lw=2)
plt.title(f'Regressão Linear\nR² = {r2_lr:.4f}')
plt.xlabel('Valor Real')
plt.ylabel('Valor Previsto')

plt.subplot(1, 2, 2)
plt.scatter(y_test, y_pred_rf, alpha=0.6)
plt.plot([y_test.min(), y_test.max()], [y_test.min(), y_test.max()], 'r--', lw=2)
plt.title(f'Random Forest\nR² = {r2_rf:.4f}')
plt.xlabel('Valor Real')
plt.ylabel('Valor Previsto')

plt.tight_layout()
plt.show()
